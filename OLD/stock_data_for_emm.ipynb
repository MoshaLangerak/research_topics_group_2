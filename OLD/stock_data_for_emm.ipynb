{
 "cells": [
  {
   "cell_type": "code",
   "execution_count": 19,
   "metadata": {},
   "outputs": [],
   "source": [
    "file_path = 'stock_data_for_emm.pkl'"
   ]
  },
  {
   "cell_type": "code",
   "execution_count": 20,
   "metadata": {},
   "outputs": [
    {
     "name": "stderr",
     "output_type": "stream",
     "text": [
      "/var/folders/76/dl3rv17s7xz76wgx74llyccm0000gn/T/ipykernel_13413/1450738717.py:4: DeprecationWarning: numpy.core.numeric is deprecated and has been renamed to numpy._core.numeric. The numpy._core namespace contains private NumPy internals and its use is discouraged, as NumPy internals can change without warning in any release. In practice, most real-world usage of numpy.core is to access functionality in the public NumPy API. If that is the case, use the public NumPy API. If not, you are using NumPy internals. If you would still like to access an internal attribute, use numpy._core.numeric._frombuffer.\n",
      "  stock_data = pickle.load(f)\n"
     ]
    }
   ],
   "source": [
    "import pickle\n",
    "\n",
    "with open(file_path, 'rb') as f:\n",
    "    stock_data = pickle.load(f)\n",
    "\n",
    "import pandas as pd\n",
    "\n",
    "stock_data = pd.DataFrame(stock_data)"
   ]
  },
  {
   "cell_type": "code",
   "execution_count": 21,
   "metadata": {},
   "outputs": [
    {
     "data": {
      "text/plain": [
       "(18504, 12)"
      ]
     },
     "execution_count": 21,
     "metadata": {},
     "output_type": "execute_result"
    }
   ],
   "source": [
    "stock_data.shape"
   ]
  },
  {
   "cell_type": "code",
   "execution_count": 22,
   "metadata": {},
   "outputs": [
    {
     "data": {
      "text/html": [
       "<div>\n",
       "<style scoped>\n",
       "    .dataframe tbody tr th:only-of-type {\n",
       "        vertical-align: middle;\n",
       "    }\n",
       "\n",
       "    .dataframe tbody tr th {\n",
       "        vertical-align: top;\n",
       "    }\n",
       "\n",
       "    .dataframe thead th {\n",
       "        text-align: right;\n",
       "    }\n",
       "</style>\n",
       "<table border=\"1\" class=\"dataframe\">\n",
       "  <thead>\n",
       "    <tr style=\"text-align: right;\">\n",
       "      <th></th>\n",
       "      <th>country</th>\n",
       "      <th>industry</th>\n",
       "      <th>currency</th>\n",
       "      <th>exchangeTimezoneName</th>\n",
       "      <th>exchange</th>\n",
       "      <th>sector</th>\n",
       "      <th>averageVolume10days</th>\n",
       "      <th>enterpriseToEbitda</th>\n",
       "      <th>marketCap</th>\n",
       "      <th>debtToEquity</th>\n",
       "      <th>fullTimeEmployees</th>\n",
       "      <th>target</th>\n",
       "    </tr>\n",
       "  </thead>\n",
       "  <tbody>\n",
       "    <tr>\n",
       "      <th>SOG.PA</th>\n",
       "      <td>France</td>\n",
       "      <td>Aerospace &amp; Defense</td>\n",
       "      <td>EUR</td>\n",
       "      <td>Europe/Paris</td>\n",
       "      <td>PAR</td>\n",
       "      <td>Industrials</td>\n",
       "      <td>382.0</td>\n",
       "      <td>11.822</td>\n",
       "      <td>5.750674e+07</td>\n",
       "      <td>50.783</td>\n",
       "      <td>1102.0</td>\n",
       "      <td>[47.20000076293945, 47.75, 48.900001525878906,...</td>\n",
       "    </tr>\n",
       "    <tr>\n",
       "      <th>ORO.F</th>\n",
       "      <td>Canada</td>\n",
       "      <td>Drug Manufacturers—Specialty &amp; Generic</td>\n",
       "      <td>EUR</td>\n",
       "      <td>Europe/Berlin</td>\n",
       "      <td>FRA</td>\n",
       "      <td>Healthcare</td>\n",
       "      <td>0.0</td>\n",
       "      <td>-6.054</td>\n",
       "      <td>2.624033e+05</td>\n",
       "      <td>NaN</td>\n",
       "      <td>40.0</td>\n",
       "      <td>[0.11999999731779099, 0.3190000057220459, 0.58...</td>\n",
       "    </tr>\n",
       "    <tr>\n",
       "      <th>AOF.DE</th>\n",
       "      <td>Germany</td>\n",
       "      <td>Software—Application</td>\n",
       "      <td>EUR</td>\n",
       "      <td>Europe/Berlin</td>\n",
       "      <td>GER</td>\n",
       "      <td>Technology</td>\n",
       "      <td>8329.0</td>\n",
       "      <td>33.294</td>\n",
       "      <td>1.241838e+09</td>\n",
       "      <td>32.492</td>\n",
       "      <td>650.0</td>\n",
       "      <td>[37.70000076293945, 37.005001068115234, 43.299...</td>\n",
       "    </tr>\n",
       "    <tr>\n",
       "      <th>O5H.F</th>\n",
       "      <td>Switzerland</td>\n",
       "      <td>Software—Application</td>\n",
       "      <td>EUR</td>\n",
       "      <td>Europe/Berlin</td>\n",
       "      <td>FRA</td>\n",
       "      <td>Technology</td>\n",
       "      <td>7650.0</td>\n",
       "      <td>-0.387</td>\n",
       "      <td>1.976241e+05</td>\n",
       "      <td>NaN</td>\n",
       "      <td>52.0</td>\n",
       "      <td>[0.3199999928474426, 0.26499998569488525, 0.30...</td>\n",
       "    </tr>\n",
       "    <tr>\n",
       "      <th>EUK2.HA</th>\n",
       "      <td>Germany</td>\n",
       "      <td>Marine Shipping</td>\n",
       "      <td>EUR</td>\n",
       "      <td>Europe/Berlin</td>\n",
       "      <td>HAN</td>\n",
       "      <td>Industrials</td>\n",
       "      <td>0.0</td>\n",
       "      <td>7.614</td>\n",
       "      <td>NaN</td>\n",
       "      <td>41.392</td>\n",
       "      <td>807.0</td>\n",
       "      <td>[42.5, 44.5, 43.599998474121094, 47.0, 46.0, 4...</td>\n",
       "    </tr>\n",
       "  </tbody>\n",
       "</table>\n",
       "</div>"
      ],
      "text/plain": [
       "             country                                industry currency  \\\n",
       "SOG.PA        France                     Aerospace & Defense      EUR   \n",
       "ORO.F         Canada  Drug Manufacturers—Specialty & Generic      EUR   \n",
       "AOF.DE       Germany                    Software—Application      EUR   \n",
       "O5H.F    Switzerland                    Software—Application      EUR   \n",
       "EUK2.HA      Germany                         Marine Shipping      EUR   \n",
       "\n",
       "        exchangeTimezoneName exchange       sector  averageVolume10days  \\\n",
       "SOG.PA          Europe/Paris      PAR  Industrials                382.0   \n",
       "ORO.F          Europe/Berlin      FRA   Healthcare                  0.0   \n",
       "AOF.DE         Europe/Berlin      GER   Technology               8329.0   \n",
       "O5H.F          Europe/Berlin      FRA   Technology               7650.0   \n",
       "EUK2.HA        Europe/Berlin      HAN  Industrials                  0.0   \n",
       "\n",
       "         enterpriseToEbitda     marketCap  debtToEquity  fullTimeEmployees  \\\n",
       "SOG.PA               11.822  5.750674e+07        50.783             1102.0   \n",
       "ORO.F                -6.054  2.624033e+05           NaN               40.0   \n",
       "AOF.DE               33.294  1.241838e+09        32.492              650.0   \n",
       "O5H.F                -0.387  1.976241e+05           NaN               52.0   \n",
       "EUK2.HA               7.614           NaN        41.392              807.0   \n",
       "\n",
       "                                                    target  \n",
       "SOG.PA   [47.20000076293945, 47.75, 48.900001525878906,...  \n",
       "ORO.F    [0.11999999731779099, 0.3190000057220459, 0.58...  \n",
       "AOF.DE   [37.70000076293945, 37.005001068115234, 43.299...  \n",
       "O5H.F    [0.3199999928474426, 0.26499998569488525, 0.30...  \n",
       "EUK2.HA  [42.5, 44.5, 43.599998474121094, 47.0, 46.0, 4...  "
      ]
     },
     "execution_count": 22,
     "metadata": {},
     "output_type": "execute_result"
    }
   ],
   "source": [
    "stock_data.head()"
   ]
  },
  {
   "cell_type": "code",
   "execution_count": 23,
   "metadata": {},
   "outputs": [],
   "source": [
    "# split the index into two columns\n",
    "stock_data['ticker'] = stock_data.index.str.split('.').str[0]\n",
    "stock_data['exchange_ticker'] = stock_data.index.str.split('.').str[1]"
   ]
  },
  {
   "cell_type": "code",
   "execution_count": 24,
   "metadata": {},
   "outputs": [
    {
     "data": {
      "text/plain": [
       "SOG.PA     [47.20000076293945, 47.75, 48.900001525878906,...\n",
       "ORO.F      [0.11999999731779099, 0.3190000057220459, 0.58...\n",
       "AOF.DE     [37.70000076293945, 37.005001068115234, 43.299...\n",
       "O5H.F      [0.3199999928474426, 0.26499998569488525, 0.30...\n",
       "EUK2.HA    [42.5, 44.5, 43.599998474121094, 47.0, 46.0, 4...\n",
       "Name: target, dtype: object"
      ]
     },
     "execution_count": 24,
     "metadata": {},
     "output_type": "execute_result"
    }
   ],
   "source": [
    "stock_data['target'].head()"
   ]
  },
  {
   "cell_type": "code",
   "execution_count": 25,
   "metadata": {},
   "outputs": [],
   "source": [
    "# get the first value of the target column\n",
    "ts = stock_data['target'].iloc[0]"
   ]
  },
  {
   "cell_type": "code",
   "execution_count": 26,
   "metadata": {},
   "outputs": [
    {
     "data": {
      "image/png": "[encoded data removed]",
      "text/plain": [
       "<Figure size 640x480 with 1 Axes>"
      ]
     },
     "metadata": {},
     "output_type": "display_data"
    }
   ],
   "source": [
    "# plot the time series\n",
    "import matplotlib.pyplot as plt\n",
    "\n",
    "plt.plot(ts)\n",
    "plt.show()"
   ]
  },
  {
   "cell_type": "code",
   "execution_count": 27,
   "metadata": {},
   "outputs": [
    {
     "data": {
      "text/html": [
       "<div>\n",
       "<style scoped>\n",
       "    .dataframe tbody tr th:only-of-type {\n",
       "        vertical-align: middle;\n",
       "    }\n",
       "\n",
       "    .dataframe tbody tr th {\n",
       "        vertical-align: top;\n",
       "    }\n",
       "\n",
       "    .dataframe thead th {\n",
       "        text-align: right;\n",
       "    }\n",
       "</style>\n",
       "<table border=\"1\" class=\"dataframe\">\n",
       "  <thead>\n",
       "    <tr style=\"text-align: right;\">\n",
       "      <th></th>\n",
       "      <th>Symbol</th>\n",
       "      <th>Security</th>\n",
       "      <th>GICS Sector</th>\n",
       "      <th>GICS Sub-Industry</th>\n",
       "      <th>Headquarters Location</th>\n",
       "      <th>Date added</th>\n",
       "      <th>CIK</th>\n",
       "      <th>Founded</th>\n",
       "    </tr>\n",
       "  </thead>\n",
       "  <tbody>\n",
       "    <tr>\n",
       "      <th>0</th>\n",
       "      <td>MMM</td>\n",
       "      <td>3M</td>\n",
       "      <td>Industrials</td>\n",
       "      <td>Industrial Conglomerates</td>\n",
       "      <td>Saint Paul, Minnesota</td>\n",
       "      <td>1957-03-04</td>\n",
       "      <td>66740</td>\n",
       "      <td>1902</td>\n",
       "    </tr>\n",
       "    <tr>\n",
       "      <th>1</th>\n",
       "      <td>AOS</td>\n",
       "      <td>A. O. Smith</td>\n",
       "      <td>Industrials</td>\n",
       "      <td>Building Products</td>\n",
       "      <td>Milwaukee, Wisconsin</td>\n",
       "      <td>2017-07-26</td>\n",
       "      <td>91142</td>\n",
       "      <td>1916</td>\n",
       "    </tr>\n",
       "    <tr>\n",
       "      <th>2</th>\n",
       "      <td>ABT</td>\n",
       "      <td>Abbott Laboratories</td>\n",
       "      <td>Health Care</td>\n",
       "      <td>Health Care Equipment</td>\n",
       "      <td>North Chicago, Illinois</td>\n",
       "      <td>1957-03-04</td>\n",
       "      <td>1800</td>\n",
       "      <td>1888</td>\n",
       "    </tr>\n",
       "    <tr>\n",
       "      <th>3</th>\n",
       "      <td>ABBV</td>\n",
       "      <td>AbbVie</td>\n",
       "      <td>Health Care</td>\n",
       "      <td>Biotechnology</td>\n",
       "      <td>North Chicago, Illinois</td>\n",
       "      <td>2012-12-31</td>\n",
       "      <td>1551152</td>\n",
       "      <td>2013 (1888)</td>\n",
       "    </tr>\n",
       "    <tr>\n",
       "      <th>4</th>\n",
       "      <td>ACN</td>\n",
       "      <td>Accenture</td>\n",
       "      <td>Information Technology</td>\n",
       "      <td>IT Consulting &amp; Other Services</td>\n",
       "      <td>Dublin, Ireland</td>\n",
       "      <td>2011-07-06</td>\n",
       "      <td>1467373</td>\n",
       "      <td>1989</td>\n",
       "    </tr>\n",
       "  </tbody>\n",
       "</table>\n",
       "</div>"
      ],
      "text/plain": [
       "  Symbol             Security             GICS Sector  \\\n",
       "0    MMM                   3M             Industrials   \n",
       "1    AOS          A. O. Smith             Industrials   \n",
       "2    ABT  Abbott Laboratories             Health Care   \n",
       "3   ABBV               AbbVie             Health Care   \n",
       "4    ACN            Accenture  Information Technology   \n",
       "\n",
       "                GICS Sub-Industry    Headquarters Location  Date added  \\\n",
       "0        Industrial Conglomerates    Saint Paul, Minnesota  1957-03-04   \n",
       "1               Building Products     Milwaukee, Wisconsin  2017-07-26   \n",
       "2           Health Care Equipment  North Chicago, Illinois  1957-03-04   \n",
       "3                   Biotechnology  North Chicago, Illinois  2012-12-31   \n",
       "4  IT Consulting & Other Services          Dublin, Ireland  2011-07-06   \n",
       "\n",
       "       CIK      Founded  \n",
       "0    66740         1902  \n",
       "1    91142         1916  \n",
       "2     1800         1888  \n",
       "3  1551152  2013 (1888)  \n",
       "4  1467373         1989  "
      ]
     },
     "execution_count": 27,
     "metadata": {},
     "output_type": "execute_result"
    }
   ],
   "source": [
    "# check if all S&P 500 companies are present\n",
    "sp500 = pd.read_csv('sp500.csv')\n",
    "sp500.head()"
   ]
  },
  {
   "cell_type": "code",
   "execution_count": 28,
   "metadata": {},
   "outputs": [
    {
     "name": "stdout",
     "output_type": "stream",
     "text": [
      "Present: 448\n",
      "Not present: 55\n"
     ]
    }
   ],
   "source": [
    "present = []\n",
    "not_present = []\n",
    "\n",
    "for ticker in sp500['Symbol']:\n",
    "    if ticker in stock_data['ticker'].unique():\n",
    "        present.append(ticker)\n",
    "    else:\n",
    "        not_present.append(ticker)\n",
    "\n",
    "print('Present:', len(present))\n",
    "print('Not present:', len(not_present))"
   ]
  },
  {
   "cell_type": "code",
   "execution_count": 29,
   "metadata": {},
   "outputs": [],
   "source": [
    "import yfinance as yf"
   ]
  },
  {
   "cell_type": "code",
   "execution_count": 30,
   "metadata": {},
   "outputs": [],
   "source": [
    "ticker = 'AAPL'\n",
    "\n",
    "info = yf.Ticker(ticker).info"
   ]
  },
  {
   "cell_type": "code",
   "execution_count": 31,
   "metadata": {},
   "outputs": [],
   "source": [
    "info_to_keep = ['country', 'industry', 'sector', 'fullTimeEmployees', 'auditRisk', 'boardRisk', 'compensationRisk', 'overallRisk', 'dividentRate', 'dividentYield', 'marketCap', 'profitMargins', 'totalCash', 'totalCashPerShare', 'ebitda', 'totalDebt', 'totalRevenue', 'revenuePerShare', 'grossMargins']"
   ]
  },
  {
   "cell_type": "code",
   "execution_count": 32,
   "metadata": {},
   "outputs": [],
   "source": [
    "def get_info(ticker, info_to_keep):\n",
    "    info = yf.Ticker(ticker).info\n",
    "    return {key: info[key] for key in info_to_keep}"
   ]
  },
  {
   "cell_type": "code",
   "execution_count": 34,
   "metadata": {},
   "outputs": [],
   "source": [
    "\n",
    "def read_s_and_p(file='sp500.csv'):\n",
    "\t\"\"\" read in s&p data \"\"\"\n",
    "\tdata = pd.read_csv(file)\n",
    "\treturn data['Symbol'].values.tolist()"
   ]
  },
  {
   "cell_type": "code",
   "execution_count": null,
   "metadata": {},
   "outputs": [],
   "source": []
  }
 ],
 "metadata": {
  "kernelspec": {
   "display_name": "venv",
   "language": "python",
   "name": "python3"
  },
  "language_info": {
   "codemirror_mode": {
    "name": "ipython",
    "version": 3
   },
   "file_extension": ".py",
   "mimetype": "text/x-python",
   "name": "python",
   "nbconvert_exporter": "python",
   "pygments_lexer": "ipython3",
   "version": "3.10.14"
  }
 },
 "nbformat": 4,
 "nbformat_minor": 2
}

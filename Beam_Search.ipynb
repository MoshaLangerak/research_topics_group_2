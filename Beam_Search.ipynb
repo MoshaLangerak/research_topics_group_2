{
 "cells": [
  {
   "cell_type": "code",
   "execution_count": 13,
   "metadata": {},
   "outputs": [],
   "source": [
    "from collections import deque\n",
    "from queue import PriorityQueue"
   ]
  },
  {
   "cell_type": "code",
   "execution_count": null,
   "metadata": {},
   "outputs": [],
   "source": [
    "def refin():\n",
    "    pass\n",
    "\n",
    "def extract_subgroup(descriptor, data):\n",
    "    pass\n",
    "\n",
    "def constraints_satisfied(descriptors, constraints): # and subgroup len > 0\n",
    "    pass\n",
    "\n",
    "def insert_to_pq(tuple(descriptors), quality):\n",
    "    pass\n",
    "\n",
    "def get_highest_pq():\n",
    "    pass"
   ]
  },
  {
   "cell_type": "code",
   "execution_count": null,
   "metadata": {},
   "outputs": [],
   "source": [
    "def beam_search(data, quality, refin, beam_width, beam_depth, nr_bins, nr_saved, constraints, targets, types):\n",
    "\n",
    "    column_names = []\n",
    "\n",
    "    beam_queue = deque([()]) # initialize with emtpy tuple (the empty set)\n",
    "    results = PriorityQueue(nr_saved) # queue with max amount of descriptors saved\n",
    "\n",
    "    for depth in range(beam_depth):\n",
    "        beam = PriorityQueue(beam_width) # amount of combinations we keep investigating\n",
    "    \n",
    "    while beam_queu: # while there are items in the queue\n",
    "        candidate = beam_queue.popleft()\n",
    "        descriptor_set = refin(candidate, data)\n",
    "\n",
    "        for descriptor in descripto_set:\n",
    "            subgroup = extract_subgroup(descriptor, data)\n",
    "            \n",
    "            if constraints_satisfied(descriptors, constraints):\n",
    "                quality_result = quality(data, subgroup, targets)\n",
    "                results.insert_to_pq(tuple(descriptors), quality)\n",
    "                beam.insert_to_pq(tuple(descriptors), quality)\n",
    "\n",
    "\n",
    "    while beam: # is not empty\n",
    "        new_combination = beam.get_highest_pq()\n",
    "        beam_queue.append(new_combination)\n",
    "\n",
    "    return results\n",
    "\n",
    "\n",
    "\n",
    "\n",
    "\n"
   ]
  }
 ],
 "metadata": {
  "kernelspec": {
   "display_name": "Python 3",
   "language": "python",
   "name": "python3"
  },
  "language_info": {
   "codemirror_mode": {
    "name": "ipython",
    "version": 3
   },
   "file_extension": ".py",
   "mimetype": "text/x-python",
   "name": "python",
   "nbconvert_exporter": "python",
   "pygments_lexer": "ipython3",
   "version": "3.12.7"
  }
 },
 "nbformat": 4,
 "nbformat_minor": 2
}

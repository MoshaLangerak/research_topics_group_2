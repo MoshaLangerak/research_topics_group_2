{
 "cells": [
  {
   "cell_type": "code",
   "metadata": {
    "ExecuteTime": {
     "end_time": "2024-10-06T21:53:05.669457Z",
     "start_time": "2024-10-06T21:53:05.661479Z"
    }
   },
   "source": [
    "from collections import deque\n",
    "from queue import PriorityQueue\n",
    "from quality_measure import quality_measure\n",
    "from load_data import make_growth_target_df\n",
    "import pandas as pd\n",
    "import numpy as np\n",
    "import math"
   ],
   "outputs": [],
   "execution_count": 11
  },
  {
   "metadata": {},
   "cell_type": "markdown",
   "source": [
    "## aantekeningen\n",
    "\\\n",
    "windowsize is erg bepalend in welke subgroups de hoogste quality measure halen (max 72 vs 250 bij 7 vs 5 windowsize) \\\n",
    "\\\n",
    "windowsize, windowoverlap en aggregate functies moeten nog als input aan beam search toegevoegd worden (voor de quality measure) \\\n",
    "\\\n",
    "we doen nu alleen equal voor classes column maar moet ook niet not equal? (dan neemt mogelijke optie wel gigantish toe (exponentieel??)) \\\n",
    "\\\n",
    "worden de splitpoints voor numerical class nu wel goed berekent en hoeveel bins is optimaal? \\\n",
    "\\\n",
    "is equalsized bins de beste optie? \\\n",
    "\\\n",
    "in de results opslaan hoe groot de subgroup is"
   ]
  },
  {
   "metadata": {
    "ExecuteTime": {
     "end_time": "2024-10-07T14:30:10.773163Z",
     "start_time": "2024-10-07T14:30:10.740219Z"
    }
   },
   "cell_type": "code",
   "source": [
    "def gteq(a, b):\n",
    "    return a >= b\n",
    "\n",
    "def leeq(a, b):\n",
    "    return a <= b\n",
    "\n",
    "def eq(a, b):\n",
    "    return a == b\n",
    "\n",
    "def neq(a, b):\n",
    "    return not eq(a, b)\n",
    "\n",
    "def extract_subgroup(descriptors, data):\n",
    "    result = []\n",
    "    for row in data:\n",
    "        check = True\n",
    "        for attribute in descriptors:\n",
    "            att_index, descr_value, operator = attribute # unpack 3 values from attribute\n",
    "            value = operator(row[att_index], descr_value)\n",
    "\n",
    "            if not value:\n",
    "                check = False\n",
    "                break\n",
    "        \n",
    "        if check:\n",
    "            result.append(row)\n",
    "\n",
    "    return result\n",
    "\n",
    "\n",
    "def refin(seed, data, types, nr_bins, descr_indices):\n",
    "    print(len(types), len(descr_indices))\n",
    "    res = []\n",
    "    used_descr = [i[0] for i in seed]\n",
    "    not_used_indices = descr_indices[:]\n",
    "    [not_used_indices.remove(i) for i in used_descr]\n",
    "    # refinement of descriptors\n",
    "\n",
    "    for i in not_used_indices: # functies voor voorwaarden gewoon erin doen\n",
    "        aux = list(seed)[:]\n",
    "\n",
    "        if types[i] == 'numeric':\n",
    "            s = extract_subgroup(seed, data)\n",
    "            all_values = [float(entry[i]) for entry in s]\n",
    "            all_values = sorted(all_values)\n",
    "            n = len(all_values)\n",
    "            split_points = [all_values[math.floor(j * (n/nr_bins))] for j in range(1, nr_bins)] # weet niet of dit nu goed gaat\n",
    "            for s in split_points:\n",
    "                func1 = leeq\n",
    "                func2 = gteq\n",
    "         \n",
    "                local0 = aux[:]\n",
    "                local0.append((i, s, func1))\n",
    "                res.append(local0)\n",
    "           \n",
    "                local1 = aux[:]\n",
    "                local1.append((i, s, func2))\n",
    "                res.append(local1)\n",
    "\n",
    "        elif types[i] == 'binary':\n",
    "            func = eq\n",
    "            local0 = aux[:]\n",
    "            local0.append((i, 0, func))\n",
    "            local1 = aux[:]\n",
    "            local1.append((i, 1, func))\n",
    "            res.append(local0)\n",
    "            res.append(local1)\n",
    "\n",
    "        else:\n",
    "            all_values = [entry[i] for entry in data]\n",
    "            for j in set(all_values):\n",
    "                func1 = eq\n",
    "                func2 = neq\n",
    "                local0 = aux[:]\n",
    "                local0.append((i, j, func1))\n",
    "                res.append(local0)\n",
    "    return res\n",
    "\n",
    "            \n",
    "\n",
    "def constraints_satisfied(descriptors, constraints): # and subgroup len > 0\n",
    "    return True\n",
    "\n",
    "def put_item_in_queue(queue, quality, descriptor):\n",
    "    if queue.full():\n",
    "        min_quality, min_descriptor = queue.get()\n",
    "        if min_quality >= quality:\n",
    "            queue.put((min_quality, min_descriptor))\n",
    "        else:\n",
    "            queue.put((quality, descriptor))\n",
    "    else:\n",
    "        queue.put((quality, descriptor))\n",
    "\n",
    "def categorize_columns_in_order(df, att_columns):\n",
    "    # Define empty list to store the categories in order\n",
    "    column_types = []\n",
    "\n",
    "    # Loop through attribute columns in the DataFrame\n",
    "    for col in att_columns:\n",
    "        # Check if the column is numeric\n",
    "        if pd.api.types.is_numeric_dtype(df[col]):\n",
    "            column_types.append('numeric')\n",
    "        # Check if the column has exactly 2 unique values (binary)\n",
    "        elif df[col].nunique() == 2:\n",
    "            column_types.append('binary')\n",
    "        # Otherwise, treat it as nominal\n",
    "        else:\n",
    "            column_types.append('nominal')\n",
    "\n",
    "    return column_types\n"
   ],
   "outputs": [],
   "execution_count": 31
  },
  {
   "metadata": {
    "ExecuteTime": {
     "end_time": "2024-10-07T14:30:11.198639Z",
     "start_time": "2024-10-07T14:30:11.175669Z"
    }
   },
   "cell_type": "code",
   "source": [
    "def beam_search(data, targets_baseline, column_names, quality, beam_width, beam_depth, nr_bins, nr_saved, subgroup_size, constraints, target, types):\n",
    "\n",
    "    target_ind = column_names.index(target) \n",
    "    att_indices = list(range(0, len(column_names)))\n",
    "    att_indices.remove(target_ind) # ONLY INCLUDE TARGET GROWTH!\n",
    "    beam_queue = deque([()]) # initialize with emtpy tuple (the empty set)\n",
    "    results = PriorityQueue(nr_saved) # queue with max amount of descriptors saved\n",
    "\n",
    "    for depth in range(beam_depth):\n",
    "        beam = PriorityQueue(beam_width) # amount of combinations we keep investigating\n",
    "    \n",
    "        while bool(beam_queue):# while there are items in the queue\n",
    "            seed = beam_queue.popleft()\n",
    "            descriptor_set = refin(seed, data, types, nr_bins, att_indices)\n",
    "\n",
    "            for descriptor in descriptor_set:\n",
    "                subgroup = extract_subgroup(descriptor, data)\n",
    "                if constraints_satisfied(descriptor, constraints) and len(subgroup) >= subgroup_size:\n",
    "                    targets_subgroup = [i[target_ind] for i in subgroup]\n",
    "                    quality_result = quality(targets_subgroup, targets_baseline)\n",
    "                    put_item_in_queue(results, quality_result, tuple(descriptor))\n",
    "                    put_item_in_queue(beam, quality_result, tuple(descriptor))\n",
    "        \n",
    "\n",
    "\n",
    "        while not beam.empty(): \n",
    "\n",
    "            new_combination = beam.get()\n",
    "            new_combination = new_combination[1]# dit moet het item gaan geven met de beste quality measure\n",
    "            beam_queue.append(new_combination)\n",
    "\n",
    "    return results\n",
    "\n"
   ],
   "outputs": [],
   "execution_count": 32
  },
  {
   "metadata": {
    "ExecuteTime": {
     "end_time": "2024-10-06T21:53:37.458438Z",
     "start_time": "2024-10-06T21:53:05.797171Z"
    }
   },
   "cell_type": "code",
   "source": [
    "# Create stock_df from the target file\n",
    "stock_df = make_growth_target_df('stock_data_for_emm.pkl')"
   ],
   "outputs": [],
   "execution_count": 14
  },
  {
   "metadata": {
    "ExecuteTime": {
     "end_time": "2024-10-07T14:30:19.388785Z",
     "start_time": "2024-10-07T14:30:14.991891Z"
    }
   },
   "cell_type": "code",
   "source": [
    "stock_df.drop(['index'], inplace=True, axis=1)\n",
    "stock_df"
   ],
   "outputs": [
    {
     "ename": "KeyError",
     "evalue": "\"['index'] not found in axis\"",
     "output_type": "error",
     "traceback": [
      "\u001B[1;31m---------------------------------------------------------------------------\u001B[0m",
      "\u001B[1;31mKeyError\u001B[0m                                  Traceback (most recent call last)",
      "Cell \u001B[1;32mIn[33], line 1\u001B[0m\n\u001B[1;32m----> 1\u001B[0m \u001B[43mstock_df\u001B[49m\u001B[38;5;241;43m.\u001B[39;49m\u001B[43mdrop\u001B[49m\u001B[43m(\u001B[49m\u001B[43m[\u001B[49m\u001B[38;5;124;43m'\u001B[39;49m\u001B[38;5;124;43mindex\u001B[39;49m\u001B[38;5;124;43m'\u001B[39;49m\u001B[43m]\u001B[49m\u001B[43m,\u001B[49m\u001B[43m \u001B[49m\u001B[43minplace\u001B[49m\u001B[38;5;241;43m=\u001B[39;49m\u001B[38;5;28;43;01mTrue\u001B[39;49;00m\u001B[43m,\u001B[49m\u001B[43m \u001B[49m\u001B[43maxis\u001B[49m\u001B[38;5;241;43m=\u001B[39;49m\u001B[38;5;241;43m1\u001B[39;49m\u001B[43m)\u001B[49m\n\u001B[0;32m      2\u001B[0m stock_df\n",
      "File \u001B[1;32m~\\Music\\envtest\\lib\\site-packages\\pandas\\core\\frame.py:5581\u001B[0m, in \u001B[0;36mDataFrame.drop\u001B[1;34m(self, labels, axis, index, columns, level, inplace, errors)\u001B[0m\n\u001B[0;32m   5433\u001B[0m \u001B[38;5;28;01mdef\u001B[39;00m \u001B[38;5;21mdrop\u001B[39m(\n\u001B[0;32m   5434\u001B[0m     \u001B[38;5;28mself\u001B[39m,\n\u001B[0;32m   5435\u001B[0m     labels: IndexLabel \u001B[38;5;241m|\u001B[39m \u001B[38;5;28;01mNone\u001B[39;00m \u001B[38;5;241m=\u001B[39m \u001B[38;5;28;01mNone\u001B[39;00m,\n\u001B[1;32m   (...)\u001B[0m\n\u001B[0;32m   5442\u001B[0m     errors: IgnoreRaise \u001B[38;5;241m=\u001B[39m \u001B[38;5;124m\"\u001B[39m\u001B[38;5;124mraise\u001B[39m\u001B[38;5;124m\"\u001B[39m,\n\u001B[0;32m   5443\u001B[0m ) \u001B[38;5;241m-\u001B[39m\u001B[38;5;241m>\u001B[39m DataFrame \u001B[38;5;241m|\u001B[39m \u001B[38;5;28;01mNone\u001B[39;00m:\n\u001B[0;32m   5444\u001B[0m \u001B[38;5;250m    \u001B[39m\u001B[38;5;124;03m\"\"\"\u001B[39;00m\n\u001B[0;32m   5445\u001B[0m \u001B[38;5;124;03m    Drop specified labels from rows or columns.\u001B[39;00m\n\u001B[0;32m   5446\u001B[0m \n\u001B[1;32m   (...)\u001B[0m\n\u001B[0;32m   5579\u001B[0m \u001B[38;5;124;03m            weight  1.0     0.8\u001B[39;00m\n\u001B[0;32m   5580\u001B[0m \u001B[38;5;124;03m    \"\"\"\u001B[39;00m\n\u001B[1;32m-> 5581\u001B[0m     \u001B[38;5;28;01mreturn\u001B[39;00m \u001B[38;5;28;43msuper\u001B[39;49m\u001B[43m(\u001B[49m\u001B[43m)\u001B[49m\u001B[38;5;241;43m.\u001B[39;49m\u001B[43mdrop\u001B[49m\u001B[43m(\u001B[49m\n\u001B[0;32m   5582\u001B[0m \u001B[43m        \u001B[49m\u001B[43mlabels\u001B[49m\u001B[38;5;241;43m=\u001B[39;49m\u001B[43mlabels\u001B[49m\u001B[43m,\u001B[49m\n\u001B[0;32m   5583\u001B[0m \u001B[43m        \u001B[49m\u001B[43maxis\u001B[49m\u001B[38;5;241;43m=\u001B[39;49m\u001B[43maxis\u001B[49m\u001B[43m,\u001B[49m\n\u001B[0;32m   5584\u001B[0m \u001B[43m        \u001B[49m\u001B[43mindex\u001B[49m\u001B[38;5;241;43m=\u001B[39;49m\u001B[43mindex\u001B[49m\u001B[43m,\u001B[49m\n\u001B[0;32m   5585\u001B[0m \u001B[43m        \u001B[49m\u001B[43mcolumns\u001B[49m\u001B[38;5;241;43m=\u001B[39;49m\u001B[43mcolumns\u001B[49m\u001B[43m,\u001B[49m\n\u001B[0;32m   5586\u001B[0m \u001B[43m        \u001B[49m\u001B[43mlevel\u001B[49m\u001B[38;5;241;43m=\u001B[39;49m\u001B[43mlevel\u001B[49m\u001B[43m,\u001B[49m\n\u001B[0;32m   5587\u001B[0m \u001B[43m        \u001B[49m\u001B[43minplace\u001B[49m\u001B[38;5;241;43m=\u001B[39;49m\u001B[43minplace\u001B[49m\u001B[43m,\u001B[49m\n\u001B[0;32m   5588\u001B[0m \u001B[43m        \u001B[49m\u001B[43merrors\u001B[49m\u001B[38;5;241;43m=\u001B[39;49m\u001B[43merrors\u001B[49m\u001B[43m,\u001B[49m\n\u001B[0;32m   5589\u001B[0m \u001B[43m    \u001B[49m\u001B[43m)\u001B[49m\n",
      "File \u001B[1;32m~\\Music\\envtest\\lib\\site-packages\\pandas\\core\\generic.py:4788\u001B[0m, in \u001B[0;36mNDFrame.drop\u001B[1;34m(self, labels, axis, index, columns, level, inplace, errors)\u001B[0m\n\u001B[0;32m   4786\u001B[0m \u001B[38;5;28;01mfor\u001B[39;00m axis, labels \u001B[38;5;129;01min\u001B[39;00m axes\u001B[38;5;241m.\u001B[39mitems():\n\u001B[0;32m   4787\u001B[0m     \u001B[38;5;28;01mif\u001B[39;00m labels \u001B[38;5;129;01mis\u001B[39;00m \u001B[38;5;129;01mnot\u001B[39;00m \u001B[38;5;28;01mNone\u001B[39;00m:\n\u001B[1;32m-> 4788\u001B[0m         obj \u001B[38;5;241m=\u001B[39m \u001B[43mobj\u001B[49m\u001B[38;5;241;43m.\u001B[39;49m\u001B[43m_drop_axis\u001B[49m\u001B[43m(\u001B[49m\u001B[43mlabels\u001B[49m\u001B[43m,\u001B[49m\u001B[43m \u001B[49m\u001B[43maxis\u001B[49m\u001B[43m,\u001B[49m\u001B[43m \u001B[49m\u001B[43mlevel\u001B[49m\u001B[38;5;241;43m=\u001B[39;49m\u001B[43mlevel\u001B[49m\u001B[43m,\u001B[49m\u001B[43m \u001B[49m\u001B[43merrors\u001B[49m\u001B[38;5;241;43m=\u001B[39;49m\u001B[43merrors\u001B[49m\u001B[43m)\u001B[49m\n\u001B[0;32m   4790\u001B[0m \u001B[38;5;28;01mif\u001B[39;00m inplace:\n\u001B[0;32m   4791\u001B[0m     \u001B[38;5;28mself\u001B[39m\u001B[38;5;241m.\u001B[39m_update_inplace(obj)\n",
      "File \u001B[1;32m~\\Music\\envtest\\lib\\site-packages\\pandas\\core\\generic.py:4830\u001B[0m, in \u001B[0;36mNDFrame._drop_axis\u001B[1;34m(self, labels, axis, level, errors, only_slice)\u001B[0m\n\u001B[0;32m   4828\u001B[0m         new_axis \u001B[38;5;241m=\u001B[39m axis\u001B[38;5;241m.\u001B[39mdrop(labels, level\u001B[38;5;241m=\u001B[39mlevel, errors\u001B[38;5;241m=\u001B[39merrors)\n\u001B[0;32m   4829\u001B[0m     \u001B[38;5;28;01melse\u001B[39;00m:\n\u001B[1;32m-> 4830\u001B[0m         new_axis \u001B[38;5;241m=\u001B[39m \u001B[43maxis\u001B[49m\u001B[38;5;241;43m.\u001B[39;49m\u001B[43mdrop\u001B[49m\u001B[43m(\u001B[49m\u001B[43mlabels\u001B[49m\u001B[43m,\u001B[49m\u001B[43m \u001B[49m\u001B[43merrors\u001B[49m\u001B[38;5;241;43m=\u001B[39;49m\u001B[43merrors\u001B[49m\u001B[43m)\u001B[49m\n\u001B[0;32m   4831\u001B[0m     indexer \u001B[38;5;241m=\u001B[39m axis\u001B[38;5;241m.\u001B[39mget_indexer(new_axis)\n\u001B[0;32m   4833\u001B[0m \u001B[38;5;66;03m# Case for non-unique axis\u001B[39;00m\n\u001B[0;32m   4834\u001B[0m \u001B[38;5;28;01melse\u001B[39;00m:\n",
      "File \u001B[1;32m~\\Music\\envtest\\lib\\site-packages\\pandas\\core\\indexes\\base.py:7070\u001B[0m, in \u001B[0;36mIndex.drop\u001B[1;34m(self, labels, errors)\u001B[0m\n\u001B[0;32m   7068\u001B[0m \u001B[38;5;28;01mif\u001B[39;00m mask\u001B[38;5;241m.\u001B[39many():\n\u001B[0;32m   7069\u001B[0m     \u001B[38;5;28;01mif\u001B[39;00m errors \u001B[38;5;241m!=\u001B[39m \u001B[38;5;124m\"\u001B[39m\u001B[38;5;124mignore\u001B[39m\u001B[38;5;124m\"\u001B[39m:\n\u001B[1;32m-> 7070\u001B[0m         \u001B[38;5;28;01mraise\u001B[39;00m \u001B[38;5;167;01mKeyError\u001B[39;00m(\u001B[38;5;124mf\u001B[39m\u001B[38;5;124m\"\u001B[39m\u001B[38;5;132;01m{\u001B[39;00mlabels[mask]\u001B[38;5;241m.\u001B[39mtolist()\u001B[38;5;132;01m}\u001B[39;00m\u001B[38;5;124m not found in axis\u001B[39m\u001B[38;5;124m\"\u001B[39m)\n\u001B[0;32m   7071\u001B[0m     indexer \u001B[38;5;241m=\u001B[39m indexer[\u001B[38;5;241m~\u001B[39mmask]\n\u001B[0;32m   7072\u001B[0m \u001B[38;5;28;01mreturn\u001B[39;00m \u001B[38;5;28mself\u001B[39m\u001B[38;5;241m.\u001B[39mdelete(indexer)\n",
      "\u001B[1;31mKeyError\u001B[0m: \"['index'] not found in axis\""
     ]
    }
   ],
   "execution_count": 33
  },
  {
   "metadata": {
    "ExecuteTime": {
     "end_time": "2024-10-07T14:30:25.750742Z",
     "start_time": "2024-10-07T14:30:25.718848Z"
    }
   },
   "cell_type": "code",
   "source": [
    "data = stock_df.values.tolist()\n",
    "column_names = list(stock_df.columns)\n",
    "quality = quality_measure\n",
    "beam_width = 3\n",
    "beam_depth = 3\n",
    "nr_bins = 3\n",
    "nr_saved = 10\n",
    "subgroup_size = 10\n",
    "constraints = None\n",
    "target = 'growth_target'"
   ],
   "outputs": [],
   "execution_count": 34
  },
  {
   "metadata": {
    "ExecuteTime": {
     "end_time": "2024-10-07T14:30:26.604437Z",
     "start_time": "2024-10-07T14:30:26.552575Z"
    }
   },
   "cell_type": "code",
   "source": [
    "target_ind = column_names.index(target)\n",
    "all_time_series = [i[target_ind] for i in data]\n",
    "all_time_series = np.array(all_time_series)\n",
    "targets_baseline = np.mean(all_time_series, axis=0)"
   ],
   "outputs": [],
   "execution_count": 35
  },
  {
   "metadata": {
    "ExecuteTime": {
     "end_time": "2024-10-07T14:30:27.356271Z",
     "start_time": "2024-10-07T14:30:27.333325Z"
    }
   },
   "cell_type": "code",
   "source": [
    "att_indices = list(range(0, len(column_names)))\n",
    "att_indices.remove(target_ind)\n",
    "att_columns = [column_names[i] for i in att_indices]\n",
    "types = categorize_columns_in_order(stock_df, att_columns)"
   ],
   "outputs": [],
   "execution_count": 36
  },
  {
   "metadata": {
    "ExecuteTime": {
     "end_time": "2024-10-07T14:30:32.485356Z",
     "start_time": "2024-10-07T14:30:28.061876Z"
    }
   },
   "cell_type": "code",
   "source": "results  = beam_search(data, targets_baseline, column_names, quality, beam_width, beam_depth, nr_bins, nr_saved, subgroup_size, constraints, target, types)\n",
   "outputs": [
    {
     "name": "stdout",
     "output_type": "stream",
     "text": [
      "11 11\n"
     ]
    },
    {
     "ename": "KeyboardInterrupt",
     "evalue": "",
     "output_type": "error",
     "traceback": [
      "\u001B[1;31m---------------------------------------------------------------------------\u001B[0m",
      "\u001B[1;31mKeyboardInterrupt\u001B[0m                         Traceback (most recent call last)",
      "Cell \u001B[1;32mIn[37], line 1\u001B[0m\n\u001B[1;32m----> 1\u001B[0m results  \u001B[38;5;241m=\u001B[39m \u001B[43mbeam_search\u001B[49m\u001B[43m(\u001B[49m\u001B[43mdata\u001B[49m\u001B[43m,\u001B[49m\u001B[43m \u001B[49m\u001B[43mtargets_baseline\u001B[49m\u001B[43m,\u001B[49m\u001B[43m \u001B[49m\u001B[43mcolumn_names\u001B[49m\u001B[43m,\u001B[49m\u001B[43m \u001B[49m\u001B[43mquality\u001B[49m\u001B[43m,\u001B[49m\u001B[43m \u001B[49m\u001B[43mbeam_width\u001B[49m\u001B[43m,\u001B[49m\u001B[43m \u001B[49m\u001B[43mbeam_depth\u001B[49m\u001B[43m,\u001B[49m\u001B[43m \u001B[49m\u001B[43mnr_bins\u001B[49m\u001B[43m,\u001B[49m\u001B[43m \u001B[49m\u001B[43mnr_saved\u001B[49m\u001B[43m,\u001B[49m\u001B[43m \u001B[49m\u001B[43msubgroup_size\u001B[49m\u001B[43m,\u001B[49m\u001B[43m \u001B[49m\u001B[43mconstraints\u001B[49m\u001B[43m,\u001B[49m\u001B[43m \u001B[49m\u001B[43mtarget\u001B[49m\u001B[43m,\u001B[49m\u001B[43m \u001B[49m\u001B[43mtypes\u001B[49m\u001B[43m)\u001B[49m\n",
      "Cell \u001B[1;32mIn[32], line 20\u001B[0m, in \u001B[0;36mbeam_search\u001B[1;34m(data, targets_baseline, column_names, quality, beam_width, beam_depth, nr_bins, nr_saved, subgroup_size, constraints, target, types)\u001B[0m\n\u001B[0;32m     18\u001B[0m \u001B[38;5;28;01mif\u001B[39;00m constraints_satisfied(descriptor, constraints) \u001B[38;5;129;01mand\u001B[39;00m \u001B[38;5;28mlen\u001B[39m(subgroup) \u001B[38;5;241m>\u001B[39m\u001B[38;5;241m=\u001B[39m subgroup_size:\n\u001B[0;32m     19\u001B[0m     targets_subgroup \u001B[38;5;241m=\u001B[39m [i[target_ind] \u001B[38;5;28;01mfor\u001B[39;00m i \u001B[38;5;129;01min\u001B[39;00m subgroup]\n\u001B[1;32m---> 20\u001B[0m     quality_result \u001B[38;5;241m=\u001B[39m \u001B[43mquality\u001B[49m\u001B[43m(\u001B[49m\u001B[43mtargets_subgroup\u001B[49m\u001B[43m,\u001B[49m\u001B[43m \u001B[49m\u001B[43mtargets_baseline\u001B[49m\u001B[43m)\u001B[49m\n\u001B[0;32m     21\u001B[0m     put_item_in_queue(results, quality_result, \u001B[38;5;28mtuple\u001B[39m(descriptor))\n\u001B[0;32m     22\u001B[0m     put_item_in_queue(beam, quality_result, \u001B[38;5;28mtuple\u001B[39m(descriptor))\n",
      "File \u001B[1;32m~\\Documents\\GitHub\\research_topics_group_2\\quality_measure.py:57\u001B[0m, in \u001B[0;36mquality_measure\u001B[1;34m(targets_subgroup, targets_baseline, window_size, window_overlap, aggregate_func_window, aggregate_func)\u001B[0m\n\u001B[0;32m     54\u001B[0m mean_baseline_t \u001B[38;5;241m=\u001B[39m np\u001B[38;5;241m.\u001B[39mmean(target_windows_baseline[i])\n\u001B[0;32m     56\u001B[0m \u001B[38;5;66;03m# Compute the mean of the subgroup window (aggregated across all subgroups)\u001B[39;00m\n\u001B[1;32m---> 57\u001B[0m mean_subgroup_t \u001B[38;5;241m=\u001B[39m np\u001B[38;5;241m.\u001B[39mmean([aggregate_func_window(target_windows_subgroup[j][i])\n\u001B[0;32m     58\u001B[0m                            \u001B[38;5;28;01mfor\u001B[39;00m j \u001B[38;5;129;01min\u001B[39;00m \u001B[38;5;28mrange\u001B[39m(\u001B[38;5;28mlen\u001B[39m(target_windows_subgroup))])\n\u001B[0;32m     60\u001B[0m \u001B[38;5;66;03m# Calculate the absolute difference between baseline and subgroup means\u001B[39;00m\n\u001B[0;32m     61\u001B[0m abs_diff_mean \u001B[38;5;241m=\u001B[39m \u001B[38;5;28mabs\u001B[39m(mean_subgroup_t \u001B[38;5;241m-\u001B[39m mean_baseline_t)\n",
      "File \u001B[1;32m~\\Documents\\GitHub\\research_topics_group_2\\quality_measure.py:57\u001B[0m, in \u001B[0;36m<listcomp>\u001B[1;34m(.0)\u001B[0m\n\u001B[0;32m     54\u001B[0m mean_baseline_t \u001B[38;5;241m=\u001B[39m np\u001B[38;5;241m.\u001B[39mmean(target_windows_baseline[i])\n\u001B[0;32m     56\u001B[0m \u001B[38;5;66;03m# Compute the mean of the subgroup window (aggregated across all subgroups)\u001B[39;00m\n\u001B[1;32m---> 57\u001B[0m mean_subgroup_t \u001B[38;5;241m=\u001B[39m np\u001B[38;5;241m.\u001B[39mmean([\u001B[43maggregate_func_window\u001B[49m\u001B[43m(\u001B[49m\u001B[43mtarget_windows_subgroup\u001B[49m\u001B[43m[\u001B[49m\u001B[43mj\u001B[49m\u001B[43m]\u001B[49m\u001B[43m[\u001B[49m\u001B[43mi\u001B[49m\u001B[43m]\u001B[49m\u001B[43m)\u001B[49m\n\u001B[0;32m     58\u001B[0m                            \u001B[38;5;28;01mfor\u001B[39;00m j \u001B[38;5;129;01min\u001B[39;00m \u001B[38;5;28mrange\u001B[39m(\u001B[38;5;28mlen\u001B[39m(target_windows_subgroup))])\n\u001B[0;32m     60\u001B[0m \u001B[38;5;66;03m# Calculate the absolute difference between baseline and subgroup means\u001B[39;00m\n\u001B[0;32m     61\u001B[0m abs_diff_mean \u001B[38;5;241m=\u001B[39m \u001B[38;5;28mabs\u001B[39m(mean_subgroup_t \u001B[38;5;241m-\u001B[39m mean_baseline_t)\n",
      "File \u001B[1;32m<__array_function__ internals>:200\u001B[0m, in \u001B[0;36mmean\u001B[1;34m(*args, **kwargs)\u001B[0m\n",
      "File \u001B[1;32m~\\Music\\envtest\\lib\\site-packages\\numpy\\core\\fromnumeric.py:3464\u001B[0m, in \u001B[0;36mmean\u001B[1;34m(a, axis, dtype, out, keepdims, where)\u001B[0m\n\u001B[0;32m   3461\u001B[0m     \u001B[38;5;28;01melse\u001B[39;00m:\n\u001B[0;32m   3462\u001B[0m         \u001B[38;5;28;01mreturn\u001B[39;00m mean(axis\u001B[38;5;241m=\u001B[39maxis, dtype\u001B[38;5;241m=\u001B[39mdtype, out\u001B[38;5;241m=\u001B[39mout, \u001B[38;5;241m*\u001B[39m\u001B[38;5;241m*\u001B[39mkwargs)\n\u001B[1;32m-> 3464\u001B[0m \u001B[38;5;28;01mreturn\u001B[39;00m _methods\u001B[38;5;241m.\u001B[39m_mean(a, axis\u001B[38;5;241m=\u001B[39maxis, dtype\u001B[38;5;241m=\u001B[39mdtype,\n\u001B[0;32m   3465\u001B[0m                       out\u001B[38;5;241m=\u001B[39mout, \u001B[38;5;241m*\u001B[39m\u001B[38;5;241m*\u001B[39mkwargs)\n",
      "File \u001B[1;32m~\\Music\\envtest\\lib\\site-packages\\numpy\\core\\_methods.py:169\u001B[0m, in \u001B[0;36m_mean\u001B[1;34m(a, axis, dtype, out, keepdims, where)\u001B[0m\n\u001B[0;32m    165\u001B[0m arr \u001B[38;5;241m=\u001B[39m asanyarray(a)\n\u001B[0;32m    167\u001B[0m is_float16_result \u001B[38;5;241m=\u001B[39m \u001B[38;5;28;01mFalse\u001B[39;00m\n\u001B[1;32m--> 169\u001B[0m rcount \u001B[38;5;241m=\u001B[39m \u001B[43m_count_reduce_items\u001B[49m\u001B[43m(\u001B[49m\u001B[43marr\u001B[49m\u001B[43m,\u001B[49m\u001B[43m \u001B[49m\u001B[43maxis\u001B[49m\u001B[43m,\u001B[49m\u001B[43m \u001B[49m\u001B[43mkeepdims\u001B[49m\u001B[38;5;241;43m=\u001B[39;49m\u001B[43mkeepdims\u001B[49m\u001B[43m,\u001B[49m\u001B[43m \u001B[49m\u001B[43mwhere\u001B[49m\u001B[38;5;241;43m=\u001B[39;49m\u001B[43mwhere\u001B[49m\u001B[43m)\u001B[49m\n\u001B[0;32m    170\u001B[0m \u001B[38;5;28;01mif\u001B[39;00m rcount \u001B[38;5;241m==\u001B[39m \u001B[38;5;241m0\u001B[39m \u001B[38;5;28;01mif\u001B[39;00m where \u001B[38;5;129;01mis\u001B[39;00m \u001B[38;5;28;01mTrue\u001B[39;00m \u001B[38;5;28;01melse\u001B[39;00m umr_any(rcount \u001B[38;5;241m==\u001B[39m \u001B[38;5;241m0\u001B[39m, axis\u001B[38;5;241m=\u001B[39m\u001B[38;5;28;01mNone\u001B[39;00m):\n\u001B[0;32m    171\u001B[0m     warnings\u001B[38;5;241m.\u001B[39mwarn(\u001B[38;5;124m\"\u001B[39m\u001B[38;5;124mMean of empty slice.\u001B[39m\u001B[38;5;124m\"\u001B[39m, \u001B[38;5;167;01mRuntimeWarning\u001B[39;00m, stacklevel\u001B[38;5;241m=\u001B[39m\u001B[38;5;241m2\u001B[39m)\n",
      "\u001B[1;31mKeyboardInterrupt\u001B[0m: "
     ]
    }
   ],
   "execution_count": 37
  },
  {
   "metadata": {
    "ExecuteTime": {
     "end_time": "2024-10-06T21:55:03.429233Z",
     "start_time": "2024-10-06T21:55:03.417266Z"
    }
   },
   "cell_type": "code",
   "source": [
    "while not results.empty():\n",
    "    item = results.get()\n",
    "    print(f\"Priority: {item[0]}, Descriptor: {item[1]}\")"
   ],
   "outputs": [
    {
     "name": "stdout",
     "output_type": "stream",
     "text": [
      "Priority: 64.86614408246143, Descriptor: ((3, 'Europe/Berlin', <function eq at 0x00000231E5B49EA0>), (2, 'EUR', <function eq at 0x00000231E5B49EA0>))\n",
      "Priority: 64.86614408246143, Descriptor: ((3, 'Europe/Berlin', <function eq at 0x00000231E5B49EA0>), (6, 0.0, <function gteq at 0x00000231E5D39FC0>))\n",
      "Priority: 65.62197956465624, Descriptor: ((10, 10000.0, <function gteq at 0x00000231E5D39FC0>), (6, 39.0, <function gteq at 0x00000231E5D39FC0>))\n",
      "Priority: 65.81396857128121, Descriptor: ((2, 'EUR', <function eq at 0x00000231E5B49EA0>), (6, 0.0, <function gteq at 0x00000231E5D39FC0>), (7, 5.111, <function gteq at 0x00000231E5D39FC0>))\n",
      "Priority: 65.81396857128121, Descriptor: ((2, 'EUR', <function eq at 0x00000231E5B49EA0>), (7, 5.111, <function gteq at 0x00000231E5D39FC0>))\n",
      "Priority: 67.74505877067688, Descriptor: ((10, 10000.0, <function gteq at 0x00000231E5D39FC0>), (8, 6693983744.0, <function gteq at 0x00000231E5D39FC0>))\n",
      "Priority: 68.37178453583074, Descriptor: ((2, 'EUR', <function eq at 0x00000231E5B49EA0>),)\n",
      "Priority: 68.37178453583074, Descriptor: ((2, 'EUR', <function eq at 0x00000231E5B49EA0>), (6, 0.0, <function gteq at 0x00000231E5D39FC0>))\n",
      "Priority: 68.95767441642518, Descriptor: ((10, 10000.0, <function gteq at 0x00000231E5D39FC0>), (9, 116.547, <function leeq at 0x00000231E5BE6B90>))\n",
      "Priority: 72.6996865732667, Descriptor: ((10, 10000.0, <function gteq at 0x00000231E5D39FC0>),)\n"
     ]
    }
   ],
   "execution_count": 20
  },
  {
   "metadata": {
    "ExecuteTime": {
     "end_time": "2024-10-06T21:55:03.522861Z",
     "start_time": "2024-10-06T21:55:03.504877Z"
    }
   },
   "cell_type": "code",
   "source": "",
   "outputs": [],
   "execution_count": null
  }
 ],
 "metadata": {
  "kernelspec": {
   "display_name": "Python 3",
   "language": "python",
   "name": "python3"
  },
  "language_info": {
   "codemirror_mode": {
    "name": "ipython",
    "version": 3
   },
   "file_extension": ".py",
   "mimetype": "text/x-python",
   "name": "python",
   "nbconvert_exporter": "python",
   "pygments_lexer": "ipython3",
   "version": "3.12.7"
  }
 },
 "nbformat": 4,
 "nbformat_minor": 2
}
